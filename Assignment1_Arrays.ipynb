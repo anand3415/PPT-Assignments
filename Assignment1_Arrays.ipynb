{
  "nbformat": 4,
  "nbformat_minor": 0,
  "metadata": {
    "colab": {
      "provenance": []
    },
    "kernelspec": {
      "name": "python3",
      "display_name": "Python 3"
    },
    "language_info": {
      "name": "python"
    }
  },
  "cells": [
    {
      "cell_type": "markdown",
      "source": [
        "<aside>\n",
        "💡 Q1. Given an array of integers nums and an integer target, return indices of the two numbers such that they add up to target.\n",
        "\n",
        "You may assume that each input would have exactly one solution, and you may not use the same element twice.\n",
        "\n",
        "You can return the answer in any order.\n",
        "\n",
        "Example:\n",
        "Input: nums = [2,7,11,15], target = 9\n",
        "Output0 [0,1]\n",
        "\n",
        "**Explanation:** Because nums[0] + nums[1] == 9, we return [0, 1][\n",
        "\n",
        "</aside>"
      ],
      "metadata": {
        "id": "JTSjDlUdmcex"
      }
    },
    {
      "cell_type": "code",
      "execution_count": null,
      "metadata": {
        "id": "OxIYYYcemRtP"
      },
      "outputs": [],
      "source": [
        "def two_sum(nums, target):\n",
        "    num_dict = {}  \n",
        "    \n",
        "    for i, num in enumerate(nums):\n",
        "        complement = target - num\n",
        "        \n",
        "        if complement in num_dict:\n",
        "            return [num_dict[complement], i]\n",
        "        \n",
        "        num_dict[num] = i\n",
        "        \n",
        "    return []  \n",
        "\n"
      ]
    },
    {
      "cell_type": "code",
      "source": [
        "nums = [4, 9, 13, 17]\n",
        "target = 13\n",
        "result = two_sum(nums, target)\n",
        "print(result)  # Output: [0, 1]\n"
      ],
      "metadata": {
        "colab": {
          "base_uri": "https://localhost:8080/"
        },
        "id": "mzvZjoIqmjyc",
        "outputId": "591af9b9-0fcc-4da3-f8b8-4ddbdae77728"
      },
      "execution_count": null,
      "outputs": [
        {
          "output_type": "stream",
          "name": "stdout",
          "text": [
            "[0, 1]\n"
          ]
        }
      ]
    },
    {
      "cell_type": "markdown",
      "source": [
        "<aside>\n",
        "💡 Q2. Given an integer array nums and an integer val, remove all occurrences of val in nums in-place. The order of the elements may be changed. Then return the number of elements in nums which are not equal to val.\n",
        "\n",
        "Consider the number of elements in nums which are not equal to val be k, to get accepted, you need to do the following things:\n",
        "\n",
        "- Change the array nums such that the first k elements of nums contain the elements which are not equal to val. The remaining elements of nums are not important as well as the size of nums.\n",
        "- Return k.\n",
        "\n",
        "Example :**\n",
        "Input: nums = [3,2,2,3], val = 3\n",
        "Output: 2, nums = [2,2,_*,_*]\n",
        "\n",
        "Explanation:** Your function should return k = 2, with the first two elements of nums being 2. It does not matter what you leave beyond the returned k (hence they are underscores\n",
        "\n",
        "</aside>"
      ],
      "metadata": {
        "id": "slggY7EQnuXg"
      }
    },
    {
      "cell_type": "code",
      "source": [
        "def remove_element(nums, val):\n",
        "    k = 0 \n",
        "    \n",
        "    for i in range(len(nums)):\n",
        "        if nums[i] != val:\n",
        "            nums[k] = nums[i]\n",
        "            k += 1\n",
        "    \n",
        "    return k\n"
      ],
      "metadata": {
        "id": "0oqIdWMgncKr"
      },
      "execution_count": 4,
      "outputs": []
    },
    {
      "cell_type": "code",
      "source": [
        "nums = [6,8,8,6]\n",
        "val = 6\n",
        "k = remove_element(nums, val)\n",
        "print(k)  \n",
        "print(nums)  \n"
      ],
      "metadata": {
        "colab": {
          "base_uri": "https://localhost:8080/"
        },
        "id": "2x6z_YlEn5OC",
        "outputId": "1aec004f-559d-4b47-f0fc-135bf4f6a1c8"
      },
      "execution_count": 5,
      "outputs": [
        {
          "output_type": "stream",
          "name": "stdout",
          "text": [
            "2\n",
            "[8, 8, 8, 6]\n"
          ]
        }
      ]
    },
    {
      "cell_type": "markdown",
      "source": [
        "<aside>\n",
        "💡 Q3. Given a sorted array of distinct integers and a target value, return the index if the target is found. If not, return the index where it would be if it were inserted in order.\n",
        "\n",
        "You must write an algorithm with O(log n) runtime complexity.\n",
        "\n",
        "Example 1:\n",
        "Input: nums = [1,3,5,6], target = 5\n",
        "\n",
        "Output: 2\n",
        "\n",
        "</aside>"
      ],
      "metadata": {
        "id": "dZoHeJ-wpKqU"
      }
    },
    {
      "cell_type": "code",
      "source": [
        "def search(nums, target):\n",
        "    left, right = 0, len(nums) - 1\n",
        "    \n",
        "    while left <= right:\n",
        "        mid = left + (right - left) // 2\n",
        "        \n",
        "        if nums[mid] == target:\n",
        "            return mid\n",
        "        \n",
        "        if nums[mid] < target:\n",
        "            left = mid + 1\n",
        "        else:\n",
        "            right = mid - 1\n",
        "    \n",
        "    return left\n"
      ],
      "metadata": {
        "id": "7fImEdFon7ca"
      },
      "execution_count": 6,
      "outputs": []
    },
    {
      "cell_type": "code",
      "source": [
        "nums = [2,4,5,8,9,7,5]\n",
        "target = 5\n",
        "index = search(nums, target)\n",
        "print(index) "
      ],
      "metadata": {
        "colab": {
          "base_uri": "https://localhost:8080/"
        },
        "id": "E5Xp0j2apoqr",
        "outputId": "e27492df-86c3-4c90-e7e5-f9c32f1a4aca"
      },
      "execution_count": 7,
      "outputs": [
        {
          "output_type": "stream",
          "name": "stdout",
          "text": [
            "2\n"
          ]
        }
      ]
    },
    {
      "cell_type": "markdown",
      "source": [
        "<aside>\n",
        "💡 Q4. You are given a large integer represented as an integer array digits, where each digits[i] is the ith digit of the integer. The digits are ordered from most significant to least significant in left-to-right order. The large integer does not contain any leading 0's.\n",
        "\n",
        "Increment the large integer by one and return the resulting array of digits.\n",
        "\n",
        "Example 1:\n",
        "Input: digits = [1,2,3]\n",
        "Output: [1,2,4]\n",
        "\n",
        "Explanation: The array represents the integer 123.\n",
        "\n",
        "Incrementing by one gives 123 + 1 = 124.\n",
        "Thus, the result should be [1,2,4].\n",
        "\n",
        "</aside>"
      ],
      "metadata": {
        "id": "xQAQ-lxdL9to"
      }
    },
    {
      "cell_type": "code",
      "source": [
        "def plusOne(digits):\n",
        "    n = len(digits)\n",
        "    for i in range(n - 1, -1, -1):\n",
        "        if digits[i] < 9:\n",
        "            digits[i] += 1\n",
        "            return digits\n",
        "        digits[i] = 0\n",
        "    return [1] + digits\n",
        "\n",
        "\n",
        "digits = [7,8,9]\n",
        "result = plusOne(digits)\n",
        "print(result)\n"
      ],
      "metadata": {
        "colab": {
          "base_uri": "https://localhost:8080/"
        },
        "id": "tLHCIRfRMBM6",
        "outputId": "99639a85-cb31-4ce8-d1ca-d43d61ef14d6"
      },
      "execution_count": 8,
      "outputs": [
        {
          "output_type": "stream",
          "name": "stdout",
          "text": [
            "[7, 9, 0]\n"
          ]
        }
      ]
    },
    {
      "cell_type": "markdown",
      "source": [
        "<aside>\n",
        "💡 **Q5.** You are given two integer arrays nums1 and nums2, sorted in non-decreasing order, and two integers m and n, representing the number of elements in nums1 and nums2 respectively.\n",
        "\n",
        "Merge nums1 and nums2 into a single array sorted in non-decreasing order.\n",
        "\n",
        "The final sorted array should not be returned by the function, but instead be stored inside the array nums1. To accommodate this, nums1 has a length of m + n, where the first m elements denote the elements that should be merged, and the last n elements are set to 0 and should be ignored. nums2 has a length of n.\n",
        "\n",
        "**Example 1:**\n",
        "Input: nums1 = [1,2,3,0,0,0], m = 3, nums2 = [2,5,6], n = 3\n",
        "Output: [1,2,2,3,5,6]\n",
        "\n",
        "**Explanation:** The arrays we are merging are [1,2,3] and [2,5,6].\n",
        "The result of the merge is [1,2,2,3,5,6] with the underlined elements coming from nums1.\n",
        "\n",
        "</aside>"
      ],
      "metadata": {
        "id": "B1vqd-LtMJpT"
      }
    },
    {
      "cell_type": "code",
      "source": [
        "def merge_sorted_arrays(nums1, m, nums2, n):\n",
        " \n",
        "  i = 0\n",
        "  j = 0\n",
        "  while i < m and j < n:\n",
        "    if nums1[i] <= nums2[j]:\n",
        "      nums1[i + j] = nums1[i]\n",
        "      i += 1\n",
        "    else:\n",
        "      nums1[i + j] = nums2[j]\n",
        "      j += 1\n",
        "\n",
        "  \n",
        "  nums1[i + j:] = nums1[i:]\n",
        "\n",
        "  \n",
        "  nums1[i + j:] = nums2[j:]\n",
        "\n"
      ],
      "metadata": {
        "id": "8H3tJAVmMMZ_"
      },
      "execution_count": 9,
      "outputs": []
    },
    {
      "cell_type": "code",
      "source": [
        "nums1 = [1,2,4,8,9,6,0,0]\n",
        "m = 4\n",
        "nums2 = [3,7,9,1]\n",
        "n = 4\n",
        "\n",
        "merge_sorted_arrays(nums1, m, nums2, n)\n",
        "\n",
        "print(nums1)\n"
      ],
      "metadata": {
        "colab": {
          "base_uri": "https://localhost:8080/"
        },
        "id": "nVh_HEEbM-QU",
        "outputId": "ef5890f7-6833-4cea-fa17-1ccc3c5ee8d5"
      },
      "execution_count": 10,
      "outputs": [
        {
          "output_type": "stream",
          "name": "stdout",
          "text": [
            "[1, 2, 3, 3, 3, 7, 9, 1]\n"
          ]
        }
      ]
    },
    {
      "cell_type": "markdown",
      "source": [
        "<aside>\n",
        "💡 **Q6.** Given an integer array nums, return true if any value appears at least twice in the array, and return false if every element is distinct.\n",
        "\n",
        "**Example 1:**\n",
        "Input: nums = [1,2,3,1]\n",
        "\n",
        "Output: true\n",
        "\n",
        "</aside>"
      ],
      "metadata": {
        "id": "-qfZgTJVNB80"
      }
    },
    {
      "cell_type": "code",
      "source": [
        "def duplicate(nums):\n",
        "  \n",
        "  s = set()\n",
        "\n",
        "\n",
        "  for num in nums:\n",
        "    if num in s:\n",
        "      return True\n",
        "    else:\n",
        "      s.add(num)\n",
        "\n",
        "  return False\n",
        "\n",
        "\n",
        "nums = [1,1,5,6,7,7,8,4,4,4]\n",
        "\n",
        "print(duplicate(nums))\n"
      ],
      "metadata": {
        "colab": {
          "base_uri": "https://localhost:8080/"
        },
        "id": "7-fTLR5WNXWq",
        "outputId": "23b44d82-9783-41e5-9ef1-21477f9c7160"
      },
      "execution_count": 11,
      "outputs": [
        {
          "output_type": "stream",
          "name": "stdout",
          "text": [
            "True\n"
          ]
        }
      ]
    },
    {
      "cell_type": "markdown",
      "source": [
        "<aside>\n",
        "💡 **Q7.** Given an integer array nums, move all 0's to the end of it while maintaining the relative order of the nonzero elements.\n",
        "\n",
        "Note that you must do this in-place without making a copy of the array.\n",
        "\n",
        "**Example 1:**\n",
        "Input: nums = [0,1,0,3,12]\n",
        "Output: [1,3,12,0,0]\n",
        "\n",
        "</aside>"
      ],
      "metadata": {
        "id": "TP2ts9wvNklb"
      }
    },
    {
      "cell_type": "code",
      "source": [
        "def move(nums):\n",
        "  i = 0\n",
        "  j = 0\n",
        "\n",
        "  while i < len(nums):\n",
        "    if nums[i] != 0:\n",
        "      nums[i], nums[j] = nums[j], nums[i]\n",
        "      j += 1\n",
        "\n",
        "   \n",
        "    i += 1\n",
        "  return nums\n",
        "\n",
        "\n",
        "nums = [2,4,55,0,8,0,55,73]\n",
        "\n",
        "print(move(nums))\n"
      ],
      "metadata": {
        "colab": {
          "base_uri": "https://localhost:8080/"
        },
        "id": "3yNPafKINl63",
        "outputId": "5d07bbf3-a1f7-4cba-b43d-f6bf7b4950ed"
      },
      "execution_count": 12,
      "outputs": [
        {
          "output_type": "stream",
          "name": "stdout",
          "text": [
            "[2, 4, 55, 8, 55, 73, 0, 0]\n"
          ]
        }
      ]
    },
    {
      "cell_type": "markdown",
      "source": [
        "<aside>\n",
        "💡 **Q8.** You have a set of integers s, which originally contains all the numbers from 1 to n. Unfortunately, due to some error, one of the numbers in s got duplicated to another number in the set, which results in repetition of one number and loss of another number.\n",
        "\n",
        "You are given an integer array nums representing the data status of this set after the error.\n",
        "\n",
        "Find the number that occurs twice and the number that is missing and return them in the form of an array.\n",
        "\n",
        "**Example 1:**\n",
        "Input: nums = [1,2,2,4]\n",
        "Output: [2,3]\n",
        "\n",
        "</aside>"
      ],
      "metadata": {
        "id": "GloxNdK2OAMP"
      }
    },
    {
      "cell_type": "code",
      "source": [
        "def find(nums):\n",
        "    n = len(nums)\n",
        "    num_set = set()\n",
        "    duplicate_num = -1\n",
        "\n",
        "    for num in nums:\n",
        "        if num in num_set:\n",
        "            duplicate_num = num\n",
        "        else:\n",
        "            num_set.add(num)\n",
        "    missing_num = -1\n",
        "    for i in range(1, n + 1):\n",
        "        if i not in num_set:\n",
        "            missing_num = i\n",
        "            break\n",
        "\n",
        "    return [duplicate_num, missing_num]\n",
        "\n",
        "nums = [1,1,3,4,5]\n",
        "result = find(nums)\n",
        "print(result)\n"
      ],
      "metadata": {
        "colab": {
          "base_uri": "https://localhost:8080/"
        },
        "id": "zsOu_JtMNtZ3",
        "outputId": "f9e83769-13ff-4784-b612-1994072ed46f"
      },
      "execution_count": 14,
      "outputs": [
        {
          "output_type": "stream",
          "name": "stdout",
          "text": [
            "[1, 2]\n"
          ]
        }
      ]
    },
    {
      "cell_type": "code",
      "source": [],
      "metadata": {
        "id": "P6j47x5nRMIU"
      },
      "execution_count": null,
      "outputs": []
    }
  ]
}